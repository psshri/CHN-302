{
  "nbformat": 4,
  "nbformat_minor": 0,
  "metadata": {
    "colab": {
      "name": "directsubstitution3.ipynb",
      "version": "0.3.2",
      "provenance": [],
      "include_colab_link": true
    },
    "kernelspec": {
      "display_name": "Python 3",
      "language": "python",
      "name": "python3"
    }
  },
  "cells": [
    {
      "cell_type": "markdown",
      "metadata": {
        "id": "view-in-github",
        "colab_type": "text"
      },
      "source": [
        "<a href=\"https://colab.research.google.com/github/psshri/CHN-302/blob/master/Sample%20Code/directsubstitution3.ipynb\" target=\"_parent\"><img src=\"https://colab.research.google.com/assets/colab-badge.svg\" alt=\"Open In Colab\"/></a>"
      ]
    },
    {
      "metadata": {
        "id": "Hgda0d9o4x3l",
        "colab_type": "code",
        "colab": {}
      },
      "cell_type": "code",
      "source": [
        "#to make inline plots\n",
        "%matplotlib inline "
      ],
      "execution_count": 0,
      "outputs": []
    },
    {
      "metadata": {
        "id": "NHwdRJMV4x3s",
        "colab_type": "code",
        "colab": {
          "base_uri": "https://localhost:8080/",
          "height": 1027
        },
        "outputId": "28a6a97c-695d-4b8b-bf31-1c72d68e9f4c"
      },
      "cell_type": "code",
      "source": [
        "#Example of Direct Substitution\n",
        "from numpy import fabs, linspace #import absolute value function, fabs from numpy library, linspace for creating arrays\n",
        "import matplotlib.pyplot as plt #for plotting\n",
        "\n",
        "Xold=3.0 #initial guess\n",
        "error=1.0e9 #some large value \n",
        "tolerance=1.0e-15\n",
        "\n",
        "Xa=[] #empty arrays to store X values\n",
        "fXa=[] #empty arrays to store f(X) values\n",
        "\n",
        "while error>tolerance:\n",
        "    print (\"X=\", Xold) \n",
        "    Xnew=8.0/9.0+4.0/9.0*Xold #new value of X\n",
        "    Xa.append(Xold) #append Xnew to Xa\n",
        "    fXa.append(Xnew)    #append Y to Y\n",
        "    error=fabs(Xnew-Xold) #absolute value of error\n",
        "    Xold=Xnew #set Xold to Xnew for next iteration\n",
        "\n",
        "#Plotting\n",
        "plt.xlabel('X')\n",
        "plt.ylabel('Xnew')\n",
        "plt.plot(Xa,fXa,'*-',Xa,Xa) \n",
        "plt.legend([\"Xnew=f(X)\",\"Xnew=X\"],loc=\"upper left\")\n",
        "plt.show()"
      ],
      "execution_count": 6,
      "outputs": [
        {
          "output_type": "stream",
          "text": [
            "X= 3.0\n",
            "X= 2.2222222222222223\n",
            "X= 1.876543209876543\n",
            "X= 1.7229080932784635\n",
            "X= 1.6546258192348726\n",
            "X= 1.6242781418821655\n",
            "X= 1.6107902852809624\n",
            "X= 1.6047956823470941\n",
            "X= 1.6021314143764862\n",
            "X= 1.6009472952784383\n",
            "X= 1.60042102012375\n",
            "X= 1.600187120055\n",
            "X= 1.6000831644688889\n",
            "X= 1.6000369619861727\n",
            "X= 1.60001642754941\n",
            "X= 1.600007301133071\n",
            "X= 1.6000032449480315\n",
            "X= 1.600001442199125\n",
            "X= 1.6000006409773888\n",
            "X= 1.6000002848788393\n",
            "X= 1.6000001266128172\n",
            "X= 1.600000056272363\n",
            "X= 1.600000025009939\n",
            "X= 1.6000000111155284\n",
            "X= 1.6000000049402348\n",
            "X= 1.6000000021956597\n",
            "X= 1.6000000009758488\n",
            "X= 1.6000000004337105\n",
            "X= 1.6000000001927601\n",
            "X= 1.6000000000856711\n",
            "X= 1.6000000000380759\n",
            "X= 1.6000000000169226\n",
            "X= 1.6000000000075212\n",
            "X= 1.6000000000033427\n",
            "X= 1.6000000000014856\n",
            "X= 1.60000000000066\n",
            "X= 1.6000000000002932\n",
            "X= 1.6000000000001302\n",
            "X= 1.6000000000000578\n",
            "X= 1.6000000000000256\n",
            "X= 1.6000000000000112\n",
            "X= 1.600000000000005\n",
            "X= 1.600000000000002\n",
            "X= 1.600000000000001\n"
          ],
          "name": "stdout"
        },
        {
          "output_type": "display_data",
          "data": {
            "image/png": "[encoded data removed]",
            "text/plain": [
              "<Figure size 432x288 with 1 Axes>"
            ]
          },
          "metadata": {
            "tags": []
          }
        }
      ]
    },
    {
      "metadata": {
        "id": "VYN1vheJ4x31",
        "colab_type": "code",
        "colab": {}
      },
      "cell_type": "code",
      "source": [
        ""
      ],
      "execution_count": 0,
      "outputs": []
    }
  ]
}